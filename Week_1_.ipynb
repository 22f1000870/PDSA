{
  "nbformat": 4,
  "nbformat_minor": 0,
  "metadata": {
    "colab": {
      "provenance": [],
      "authorship_tag": "ABX9TyNAIenBtblyiiR3SqBs7un6"
    },
    "kernelspec": {
      "name": "python3",
      "display_name": "Python 3"
    },
    "language_info": {
      "name": "python"
    }
  },
  "cells": [
    {
      "cell_type": "markdown",
      "source": [
        "# `PPA 1`"
      ],
      "metadata": {
        "id": "PWyFqK0drIYT"
      }
    },
    {
      "cell_type": "code",
      "execution_count": 80,
      "metadata": {
        "id": "bQlhwwz4IvdF"
      },
      "outputs": [],
      "source": [
        "def isprime(a):\n",
        "  result=True\n",
        "  if a==1:\n",
        "    return False\n",
        "  for i in range(2,a):\n",
        "    if a % i==0:\n",
        "      result=False\n",
        "  return result\n",
        "\n",
        "l=[]\n",
        "def Twin_Primes(n,m):\n",
        "  if not (n+2>m):\n",
        "    if isprime(n) and isprime(n+2):\n",
        "      l.append((n,n+2))\n",
        "      return Twin_Primes(n+2,m)\n",
        "    elif isprime(n+1) and isprime(n+3):\n",
        "      l.append((n+1,n+3))\n",
        "      return Twin_Primes(n+3,m)\n",
        "    else:\n",
        "      return Twin_Primes(n+1,m)\n",
        "  else:\n",
        "    return l\n"
      ]
    },
    {
      "cell_type": "code",
      "source": [
        "Twin_Primes(1,15)"
      ],
      "metadata": {
        "colab": {
          "base_uri": "https://localhost:8080/"
        },
        "id": "5vZb7OUaEbDF",
        "outputId": "26651a90-3ea2-4fa3-8089-d61745f540a2"
      },
      "execution_count": 81,
      "outputs": [
        {
          "output_type": "execute_result",
          "data": {
            "text/plain": [
              "[(3, 5), (5, 7), (11, 13)]"
            ]
          },
          "metadata": {},
          "execution_count": 81
        }
      ]
    },
    {
      "cell_type": "markdown",
      "source": [
        "# PPA 2"
      ],
      "metadata": {
        "id": "QUETXm6drcOf"
      }
    },
    {
      "cell_type": "code",
      "source": [
        "from math import pow, sqrt\n",
        "\n",
        "class Triangle:\n",
        "  def __init__(self,a,b,c):\n",
        "    self.a=min(a,b,c)\n",
        "    self.c=max(a,b,c)\n",
        "    self.b=(a+b+c)-self.a-self.c\n",
        "\n",
        "  def Is_valid(self):\n",
        "    if ((self.a + self.b) > self.c):\n",
        "      return \"Valid\"\n",
        "    else:\n",
        "      return \"Invalid\"\n",
        "\n",
        "  def Side_Classification(self):\n",
        "    if self.Is_valid()=='Valid':\n",
        "      if self.a==self.b==self.c:\n",
        "        return 'Equilateral'\n",
        "      elif self.a!=self.b!=self.c:\n",
        "        return 'Scalene'\n",
        "      else:\n",
        "        return 'Isosceles'\n",
        "    else:\n",
        "       return self.Is_valid()\n",
        "  def Angle_Classification(self):\n",
        "    if self.Is_valid()=='Valid':\n",
        "      if (pow(self.a,2) + pow(self.b,2))>pow(self.c,2):\n",
        "        return 'Acute'\n",
        "      elif (pow(self.a,2) + pow(self.b,2))==pow(self.c,2):\n",
        "        return 'Right'\n",
        "      else:\n",
        "        return 'Obtuse'\n",
        "    else:\n",
        "      return self.Is_valid()\n",
        "\n",
        "  def Area(self):\n",
        "    if self.Is_valid()=='Valid':\n",
        "      s=(self.a+self.b+self.c)/2\n",
        "      area= sqrt((s*(s-self.a)*(s-self.b)*(s-self.c)))\n",
        "      return area\n",
        "    else:\n",
        "      return 'Invalid'\n",
        "\n"
      ],
      "metadata": {
        "id": "xU_YHpTua2Pe"
      },
      "execution_count": 87,
      "outputs": []
    },
    {
      "cell_type": "code",
      "source": [
        "t=Triangle(2,3,4)\n",
        "t.Is_valid()"
      ],
      "metadata": {
        "colab": {
          "base_uri": "https://localhost:8080/",
          "height": 55
        },
        "id": "1SwiDjei8qYM",
        "outputId": "5cfb33e1-8818-4d78-ccec-987f84fc8334"
      },
      "execution_count": 93,
      "outputs": [
        {
          "output_type": "execute_result",
          "data": {
            "text/plain": [
              "'Valid'"
            ],
            "application/vnd.google.colaboratory.intrinsic+json": {
              "type": "string"
            }
          },
          "metadata": {},
          "execution_count": 93
        }
      ]
    },
    {
      "cell_type": "code",
      "source": [
        "t.Side_Classification()"
      ],
      "metadata": {
        "colab": {
          "base_uri": "https://localhost:8080/",
          "height": 55
        },
        "id": "Z-f4K3EVFx4u",
        "outputId": "2114c1d4-0c96-4772-a8de-0cc98a998695"
      },
      "execution_count": 91,
      "outputs": [
        {
          "output_type": "execute_result",
          "data": {
            "text/plain": [
              "'Scalene'"
            ],
            "application/vnd.google.colaboratory.intrinsic+json": {
              "type": "string"
            }
          },
          "metadata": {},
          "execution_count": 91
        }
      ]
    },
    {
      "cell_type": "code",
      "source": [
        "t.Angle_Classification()"
      ],
      "metadata": {
        "colab": {
          "base_uri": "https://localhost:8080/",
          "height": 55
        },
        "id": "V642o3DGGI2o",
        "outputId": "f2c8d73a-82a9-4f45-eb82-57503a58b013"
      },
      "execution_count": 92,
      "outputs": [
        {
          "output_type": "execute_result",
          "data": {
            "text/plain": [
              "'Obtuse'"
            ],
            "application/vnd.google.colaboratory.intrinsic+json": {
              "type": "string"
            }
          },
          "metadata": {},
          "execution_count": 92
        }
      ]
    },
    {
      "cell_type": "code",
      "source": [
        "t.Area()"
      ],
      "metadata": {
        "colab": {
          "base_uri": "https://localhost:8080/"
        },
        "id": "9Q9oX5knGPhP",
        "outputId": "91e55bca-194b-408a-aec2-e3e7c37f9ba1"
      },
      "execution_count": 95,
      "outputs": [
        {
          "output_type": "execute_result",
          "data": {
            "text/plain": [
              "2.9047375096555625"
            ]
          },
          "metadata": {},
          "execution_count": 95
        }
      ]
    }
  ]
}