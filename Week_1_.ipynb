{
  "nbformat": 4,
  "nbformat_minor": 0,
  "metadata": {
    "colab": {
      "provenance": [],
      "authorship_tag": "ABX9TyMWazQZRBMLNPaOmVxD+XoE"
    },
    "kernelspec": {
      "name": "python3",
      "display_name": "Python 3"
    },
    "language_info": {
      "name": "python"
    }
  },
  "cells": [
    {
      "cell_type": "markdown",
      "source": [
        "# `PPA 1`"
      ],
      "metadata": {
        "id": "PWyFqK0drIYT"
      }
    },
    {
      "cell_type": "code",
      "execution_count": 42,
      "metadata": {
        "id": "bQlhwwz4IvdF"
      },
      "outputs": [],
      "source": [
        "def isprime(a):\n",
        "  result=True\n",
        "  if a==1:\n",
        "    return False\n",
        "  for i in range(2,a):\n",
        "    if a % i==0:\n",
        "      print (i)\n",
        "      result=False\n",
        "  return result\n",
        "\n",
        "l=[]\n",
        "def Twin_Primes(n,m):\n",
        "  if not (n+2>m):\n",
        "    if isprime(n) and isprime(n+2):\n",
        "      l.append((n,n+2))\n",
        "      return Twin_Primes(n+2,m)\n",
        "    elif isprime(n+1) and isprime(n+3):\n",
        "      l.append((n+1,n+3))\n",
        "      return Twin_Primes(n+3,m)\n",
        "    else:\n",
        "      return Twin_Primes(n+1,m)\n",
        "  else:\n",
        "    return l\n",
        "Twin_Primes(1,15)"
      ]
    },
    {
      "cell_type": "markdown",
      "source": [
        "# PPA 2"
      ],
      "metadata": {
        "id": "QUETXm6drcOf"
      }
    },
    {
      "cell_type": "code",
      "source": [
        "\n",
        "class Triangle:\n",
        "  def __init__(self,a,b,c):\n",
        "    self.a=a\n",
        "    self.b=b\n",
        "    self.c=c\n",
        "\n",
        "  def Is_valid(self):\n",
        "    if ((self.a + self.b) > self.c) or ((self.a + self.c) > self.b) or ((self.b + self.c) > self.a):\n",
        "      return \"Valid\"\n",
        "    else:\n",
        "      return \"Invalid\"\n",
        "\n",
        "  def Side_Classification(self):\n",
        "    if self.Is_valid=='Valid':\n",
        "      if self.a==self.b==self.c:\n",
        "        return 'Equilateral'\n",
        "      elif self.a!=self.b!=self.c:\n",
        "        return 'Scalene'\n",
        "      else:\n",
        "        return 'Isosceles'\n",
        "    else:\n",
        "      self.Is_valid\n",
        "\n",
        "  def Angle_Classification(self):\n",
        "\n",
        "\n"
      ],
      "metadata": {
        "id": "xU_YHpTua2Pe"
      },
      "execution_count": 40,
      "outputs": []
    }
  ]
}