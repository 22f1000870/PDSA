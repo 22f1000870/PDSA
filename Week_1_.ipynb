{
  "nbformat": 4,
  "nbformat_minor": 0,
  "metadata": {
    "colab": {
      "provenance": [],
      "authorship_tag": "ABX9TyM8kgC5khXQGCEjmf2ubueC"
    },
    "kernelspec": {
      "name": "python3",
      "display_name": "Python 3"
    },
    "language_info": {
      "name": "python"
    }
  },
  "cells": [
    {
      "cell_type": "markdown",
      "source": [
        "# **PPA 1**\n",
        "<h1 _ngcontent-oug-c32=\"\" appmath=\"\"><strong>Twin primes</strong> are pairs of prime numbers that differ by 2. For example (3, 5), (5, 7), and (11,13) are twin primes.<p></p>\n",
        "<p>Write a function <strong>Twin_Primes(n, m)</strong> where <code class=\"inline\">n</code> and <code class=\"inline\">m</code> are positive integers and <code class=\"inline\">n &lt; m</code> , that returns all unique twin primes between m and n (both inclusive). The function returns a list of tuples and each tuple <code class=\"inline\">(a,b)</code> represents one unique twin prime where <code class=\"inline\">n &lt;= a &lt; b &lt;= m</code>.</p></h1>"
      ],
      "metadata": {
        "id": "PWyFqK0drIYT"
      }
    },
    {
      "cell_type": "code",
      "execution_count": 80,
      "metadata": {
        "id": "bQlhwwz4IvdF"
      },
      "outputs": [],
      "source": [
        "def isprime(a):\n",
        "  result=True\n",
        "  if a==1:\n",
        "    return False\n",
        "  for i in range(2,a):\n",
        "    if a % i==0:\n",
        "      result=False\n",
        "  return result\n",
        "\n",
        "l=[]\n",
        "def Twin_Primes(n,m):\n",
        "  if not (n+2>m):\n",
        "    if isprime(n) and isprime(n+2):\n",
        "      l.append((n,n+2))\n",
        "      return Twin_Primes(n+2,m)\n",
        "    elif isprime(n+1) and isprime(n+3):\n",
        "      l.append((n+1,n+3))\n",
        "      return Twin_Primes(n+3,m)\n",
        "    else:\n",
        "      return Twin_Primes(n+1,m)\n",
        "  else:\n",
        "    return l\n"
      ]
    },
    {
      "cell_type": "code",
      "source": [
        "Twin_Primes(1,15)"
      ],
      "metadata": {
        "colab": {
          "base_uri": "https://localhost:8080/"
        },
        "id": "5vZb7OUaEbDF",
        "outputId": "26651a90-3ea2-4fa3-8089-d61745f540a2"
      },
      "execution_count": 81,
      "outputs": [
        {
          "output_type": "execute_result",
          "data": {
            "text/plain": [
              "[(3, 5), (5, 7), (11, 13)]"
            ]
          },
          "metadata": {},
          "execution_count": 81
        }
      ]
    },
    {
      "cell_type": "markdown",
      "source": [
        "# **PPA 2**\n",
        "\n",
        "<h1 _ngcontent-oug-c32=\"\" appmath=\"\"><img src=\"https://backend.seek.onlinedegree.iitm.ac.in/21t3_cs2002/assets/img/w1ppa2updated.png\" class=\"yui-img\" title=\"\" alt=\"\">\n",
        "\n",
        "</h1>\n"
      ],
      "metadata": {
        "id": "QUETXm6drcOf"
      }
    },
    {
      "cell_type": "code",
      "source": [
        "from math import pow, sqrt\n",
        "\n",
        "class Triangle:\n",
        "  def __init__(self,a,b,c):\n",
        "    self.a=min(a,b,c)\n",
        "    self.c=max(a,b,c)\n",
        "    self.b=(a+b+c)-self.a-self.c\n",
        "\n",
        "  def Is_valid(self):\n",
        "    if ((self.a + self.b) > self.c):\n",
        "      return \"Valid\"\n",
        "    else:\n",
        "      return \"Invalid\"\n",
        "\n",
        "  def Side_Classification(self):\n",
        "    if self.Is_valid()=='Valid':\n",
        "      if self.a==self.b==self.c:\n",
        "        return 'Equilateral'\n",
        "      elif self.a!=self.b!=self.c:\n",
        "        return 'Scalene'\n",
        "      else:\n",
        "        return 'Isosceles'\n",
        "    else:\n",
        "       return self.Is_valid()\n",
        "  def Angle_Classification(self):\n",
        "    if self.Is_valid()=='Valid':\n",
        "      if (pow(self.a,2) + pow(self.b,2))>pow(self.c,2):\n",
        "        return 'Acute'\n",
        "      elif (pow(self.a,2) + pow(self.b,2))==pow(self.c,2):\n",
        "        return 'Right'\n",
        "      else:\n",
        "        return 'Obtuse'\n",
        "    else:\n",
        "      return self.Is_valid()\n",
        "\n",
        "  def Area(self):\n",
        "    if self.Is_valid()=='Valid':\n",
        "      s=(self.a+self.b+self.c)/2\n",
        "      area= sqrt((s*(s-self.a)*(s-self.b)*(s-self.c)))\n",
        "      return area\n",
        "    else:\n",
        "      return 'Invalid'\n",
        "\n"
      ],
      "metadata": {
        "id": "xU_YHpTua2Pe"
      },
      "execution_count": 97,
      "outputs": []
    },
    {
      "cell_type": "code",
      "source": [
        "t=Triangle(2,3,4)\n",
        "t.Is_valid()"
      ],
      "metadata": {
        "colab": {
          "base_uri": "https://localhost:8080/",
          "height": 55
        },
        "id": "1SwiDjei8qYM",
        "outputId": "c4f4456a-4f60-487f-a00e-dd1e0b3af884"
      },
      "execution_count": 98,
      "outputs": [
        {
          "output_type": "execute_result",
          "data": {
            "text/plain": [
              "'Valid'"
            ],
            "application/vnd.google.colaboratory.intrinsic+json": {
              "type": "string"
            }
          },
          "metadata": {},
          "execution_count": 98
        }
      ]
    },
    {
      "cell_type": "code",
      "source": [
        "t.Side_Classification()"
      ],
      "metadata": {
        "colab": {
          "base_uri": "https://localhost:8080/",
          "height": 55
        },
        "id": "Z-f4K3EVFx4u",
        "outputId": "98f32f88-f800-45f4-fce1-de5748f46f42"
      },
      "execution_count": 99,
      "outputs": [
        {
          "output_type": "execute_result",
          "data": {
            "text/plain": [
              "'Scalene'"
            ],
            "application/vnd.google.colaboratory.intrinsic+json": {
              "type": "string"
            }
          },
          "metadata": {},
          "execution_count": 99
        }
      ]
    },
    {
      "cell_type": "code",
      "source": [
        "t.Angle_Classification()"
      ],
      "metadata": {
        "colab": {
          "base_uri": "https://localhost:8080/",
          "height": 55
        },
        "id": "V642o3DGGI2o",
        "outputId": "c4aa4a0e-7a57-46d4-fa76-e6a96e6556c5"
      },
      "execution_count": 100,
      "outputs": [
        {
          "output_type": "execute_result",
          "data": {
            "text/plain": [
              "'Obtuse'"
            ],
            "application/vnd.google.colaboratory.intrinsic+json": {
              "type": "string"
            }
          },
          "metadata": {},
          "execution_count": 100
        }
      ]
    },
    {
      "cell_type": "code",
      "source": [
        "t.Area()"
      ],
      "metadata": {
        "colab": {
          "base_uri": "https://localhost:8080/"
        },
        "id": "9Q9oX5knGPhP",
        "outputId": "bb3435b6-1e30-4f06-90df-52f66ee29562"
      },
      "execution_count": 101,
      "outputs": [
        {
          "output_type": "execute_result",
          "data": {
            "text/plain": [
              "2.9047375096555625"
            ]
          },
          "metadata": {},
          "execution_count": 101
        }
      ]
    },
    {
      "cell_type": "markdown",
      "source": [
        "# **GrPA 1**\n",
        "\n",
        "<h1 _ngcontent-oug-c32=\"\" appmath=\"\"><p>Write a function <strong>find_Min_Difference(L, P)</strong> that accepts a list <strong>L</strong> of integers and <strong>P</strong> (positive integer)  where the size of <code>L</code>  is greater than <code>P</code>. The task is to pick <code>P</code> different elements from the list <code>L</code>, where the difference between the maximum value and the minimum value in selected elements is minimum compared to other differences in possible subset of <code>p</code> elements. The function returns this minimum difference value.<br><strong>Note</strong> - The list can contain more than one subset of p elements that have the same minimum difference value.<br></p><p><strong>Example</strong><br></p>\n",
        "<p>Let <code>L = [3, 4, 1, 9, 56, 7, 9, 12, 13]</code> and <code>P = 5</code></p>\n",
        "<p>If we see the following two subsets of 5 elements from <code>L</code> </p>\n",
        "<p>[3, 4, 7, 9, 9] or [7, 9, 9, 12, 13]</p>\n",
        "<p>Here, the difference between the maximum value and the minimum value in both subset is <code>9 - 3 = 6</code> or <code>13 - 7 = 6</code> which is minimum. So the output will be <code>6</code>.</p>\n",
        "<p><strong>Sample Input</strong></p>\n",
        "<pre><code class=\"language-python\" lang=\"python\">[3, 4, 1, 9, 56, 7, 9, 12]\n",
        "5\n",
        "</code></pre>\n",
        "<p><strong>Output</strong></p>\n",
        "<pre><code>6\n",
        "</code></pre>\n",
        "<h3></h3>\n",
        "</h1>"
      ],
      "metadata": {
        "id": "tbcwZfOmSfy9"
      }
    },
    {
      "cell_type": "code",
      "source": [],
      "metadata": {
        "id": "6V6iGySYSnDy"
      },
      "execution_count": null,
      "outputs": []
    }
  ]
}