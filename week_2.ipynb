{
  "nbformat": 4,
  "nbformat_minor": 0,
  "metadata": {
    "colab": {
      "provenance": [],
      "authorship_tag": "ABX9TyORcD5YxHNSkFdzltSjuYAU"
    },
    "kernelspec": {
      "name": "python3",
      "display_name": "Python 3"
    },
    "language_info": {
      "name": "python"
    }
  },
  "cells": [
    {
      "cell_type": "markdown",
      "source": [
        "# **PPA 1**\n",
        "<img src=\"https://backend.seek.onlinedegree.iitm.ac.in/21t3_cs2002/assets/img/PPA1.png\" class=\"yui-img\" title=\"\" alt=\"\">**\n"
      ],
      "metadata": {
        "id": "KIgm_Qke1U5u"
      }
    },
    {
      "cell_type": "code",
      "execution_count": 35,
      "metadata": {
        "id": "LbEFMUIDxCx7"
      },
      "outputs": [],
      "source": [
        "def binarySearchIndexAndComparisons(L,k,count=0):\n",
        "    if L==[]:\n",
        "      return (False,count)\n",
        "    m=(len(L)-1)//2\n",
        "    if k==L[m]:\n",
        "      count+=1\n",
        "      return (True,count)\n",
        "    else:\n",
        "      count+=1\n",
        "      if k<L[m]:\n",
        "        return binarySearchIndexAndComparisons(L[:m],k,count)\n",
        "      else:\n",
        "        return binarySearchIndexAndComparisons(L[m+1:],k,count)"
      ]
    },
    {
      "cell_type": "code",
      "source": [
        "binarySearchIndexAndComparisons([2,6,8,11,17,23,33,44,46,50,65],11)"
      ],
      "metadata": {
        "colab": {
          "base_uri": "https://localhost:8080/"
        },
        "id": "fLqmx-TTxfqF",
        "outputId": "7509af49-5dc6-49d8-d1eb-de5a1ab856c6"
      },
      "execution_count": 37,
      "outputs": [
        {
          "output_type": "stream",
          "name": "stdout",
          "text": [
            "23 11\n",
            "[2, 6, 8, 11, 17, 23, 33, 44, 46, 50, 65]\n",
            "8 11\n",
            "[2, 6, 8, 11, 17]\n",
            "11 11\n"
          ]
        },
        {
          "output_type": "execute_result",
          "data": {
            "text/plain": [
              "(True, 3)"
            ]
          },
          "metadata": {},
          "execution_count": 37
        }
      ]
    },
    {
      "cell_type": "markdown",
      "source": [
        "# **PPA 2**\n",
        "\n",
        "<img src=\"https://backend.seek.onlinedegree.iitm.ac.in/21t3_cs2002/assets/img/GrPA3.png\" class=\"yui-img\" title=\"\" alt=\"\"><br><b>Note:-</b> In function, no need to return any list, just sort input list `L` in place.<br><br><br><br>"
      ],
      "metadata": {
        "id": "p9EjqNv32JYa"
      }
    },
    {
      "cell_type": "code",
      "source": [
        "def sortInRange(L,r):\n",
        "  d={}\n",
        "  for i in L:\n",
        "    if i not in d:\n",
        "      d[i]=1\n",
        "    else:\n",
        "      d[i]+=1\n",
        "  T=[]\n",
        "  for j in range(r):\n",
        "    if j in d:\n",
        "      T.extend([j]*d[j])\n",
        "  L[:]=T\n",
        "  return L"
      ],
      "metadata": {
        "id": "APXz5tlD7ZIh"
      },
      "execution_count": 54,
      "outputs": []
    },
    {
      "cell_type": "code",
      "source": [
        "sortInRange([0,1,1,6,2,0],7)"
      ],
      "metadata": {
        "colab": {
          "base_uri": "https://localhost:8080/"
        },
        "id": "jA1bdnza_hCr",
        "outputId": "e03feae8-f82e-4dbd-b818-560b9f6beef0"
      },
      "execution_count": 55,
      "outputs": [
        {
          "output_type": "execute_result",
          "data": {
            "text/plain": [
              "[0, 0, 1, 1, 2, 6]"
            ]
          },
          "metadata": {},
          "execution_count": 55
        }
      ]
    }
  ]
}