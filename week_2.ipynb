{
  "nbformat": 4,
  "nbformat_minor": 0,
  "metadata": {
    "colab": {
      "provenance": [],
      "authorship_tag": "ABX9TyMYuu0GglHy9Sj8QI+7KXb+",
      "include_colab_link": true
    },
    "kernelspec": {
      "name": "python3",
      "display_name": "Python 3"
    },
    "language_info": {
      "name": "python"
    }
  },
  "cells": [
    {
      "cell_type": "markdown",
      "metadata": {
        "id": "view-in-github",
        "colab_type": "text"
      },
      "source": [
        "<a href=\"https://colab.research.google.com/github/22f1000870/PDSA/blob/main/week_2.ipynb\" target=\"_parent\"><img src=\"https://colab.research.google.com/assets/colab-badge.svg\" alt=\"Open In Colab\"/></a>"
      ]
    },
    {
      "cell_type": "markdown",
      "source": [
        "# **PPA 1**\n",
        "<img src=\"https://backend.seek.onlinedegree.iitm.ac.in/21t3_cs2002/assets/img/PPA1.png\" class=\"yui-img\" title=\"\" alt=\"\">**\n"
      ],
      "metadata": {
        "id": "KIgm_Qke1U5u"
      }
    },
    {
      "cell_type": "code",
      "execution_count": 10,
      "metadata": {
        "id": "LbEFMUIDxCx7"
      },
      "outputs": [],
      "source": [
        "def binarySearchIndexAndComparisons(L,k,count=0):\n",
        "    if L==[]:\n",
        "      return (False,count)\n",
        "    m=(len(L)-1)//2\n",
        "    if k==L[m]:\n",
        "      count+=1\n",
        "      return (True,count)\n",
        "    else:\n",
        "      count+=1\n",
        "      if k<L[m]:\n",
        "        return binarySearchIndexAndComparisons(L[:m],k,count)\n",
        "      else:\n",
        "        return binarySearchIndexAndComparisons(L[m+1:],k,count)\n",
        "\n",
        "\n",
        "  #end"
      ]
    },
    {
      "cell_type": "code",
      "source": [
        "binarySearchIndexAndComparisons([2,6,8,11,17,23,33,44,46,50,65],11)"
      ],
      "metadata": {
        "colab": {
          "base_uri": "https://localhost:8080/"
        },
        "id": "fLqmx-TTxfqF",
        "outputId": "3bea2475-c8b9-41c3-be19-2aa3c5a34a9c"
      },
      "execution_count": 11,
      "outputs": [
        {
          "output_type": "execute_result",
          "data": {
            "text/plain": [
              "(True, 3)"
            ]
          },
          "metadata": {},
          "execution_count": 11
        }
      ]
    },
    {
      "cell_type": "markdown",
      "source": [
        "# **PPA 2**\n",
        "\n",
        "<img src=\"https://backend.seek.onlinedegree.iitm.ac.in/21t3_cs2002/assets/img/GrPA3.png\" class=\"yui-img\" title=\"\" alt=\"\"><br><b>Note:-</b> In function, no need to return any list, just sort input list `L` in place.<br><br><br><br>"
      ],
      "metadata": {
        "id": "p9EjqNv32JYa"
      }
    },
    {
      "cell_type": "code",
      "source": [
        "def sortInRange(L,r):\n",
        "  d={}\n",
        "  for i in L:\n",
        "    if i not in d:\n",
        "      d[i]=1\n",
        "    else:\n",
        "      d[i]+=1\n",
        "  T=[]\n",
        "  for j in range(r):\n",
        "    if j in d:\n",
        "      T.extend([j]*d[j])\n",
        "  L[:]=T\n",
        "  return L"
      ],
      "metadata": {
        "id": "APXz5tlD7ZIh"
      },
      "execution_count": null,
      "outputs": []
    },
    {
      "cell_type": "code",
      "source": [
        "sortInRange([0,1,1,6,2,0],7)"
      ],
      "metadata": {
        "colab": {
          "base_uri": "https://localhost:8080/"
        },
        "id": "jA1bdnza_hCr",
        "outputId": "e03feae8-f82e-4dbd-b818-560b9f6beef0"
      },
      "execution_count": null,
      "outputs": [
        {
          "output_type": "execute_result",
          "data": {
            "text/plain": [
              "[0, 0, 1, 1, 2, 6]"
            ]
          },
          "metadata": {},
          "execution_count": 55
        }
      ]
    },
    {
      "cell_type": "markdown",
      "source": [
        "# **GrPA 1**\n",
        "\n",
        "<img src=\"https://backend.seek.onlinedegree.iitm.ac.in/21t3_cs2002/assets/img/GrPA1.png\" class=\"yui-img\" title=\"\" alt=\"\">"
      ],
      "metadata": {
        "id": "fVSji4E_EmVy"
      }
    },
    {
      "cell_type": "code",
      "source": [
        "def combinationSort(strList):\n",
        "  L1=[]\n",
        "  while (len(strList)!=0):\n",
        "    min=strList[0]\n",
        "    index=0\n",
        "    for i in range (len(strList)):\n",
        "      if min[0]>strList[i][0]:\n",
        "        min=strList[i]\n",
        "        index=i\n",
        "    L1.append(min)\n",
        "    strList.pop(index)\n",
        "\n",
        "  L2=L1.copy()\n",
        "  for j in range(len(L2)):\n",
        "    for k in range(len(L2)):\n",
        "      if L2[j][0]==L2[k][0]:\n",
        "        if int(L2[j][1:])>int(L2[k][1:]):\n",
        "          (L2[j],L2[k])=(L2[k],L2[j])\n",
        "  return (L1,L2)\n"
      ],
      "metadata": {
        "id": "Mw8-umVaRljh"
      },
      "execution_count": 8,
      "outputs": []
    },
    {
      "cell_type": "code",
      "source": [
        "combinationSort(['b98','c45','c65','a1','c60','a56'])"
      ],
      "metadata": {
        "colab": {
          "base_uri": "https://localhost:8080/"
        },
        "id": "smCSTNsxKVG7",
        "outputId": "a1d1848e-9ab0-4214-ca60-5e7402441090"
      },
      "execution_count": 9,
      "outputs": [
        {
          "output_type": "execute_result",
          "data": {
            "text/plain": [
              "(['a1', 'a56', 'b98', 'c45', 'c65', 'c60'],\n",
              " ['a56', 'a1', 'b98', 'c65', 'c60', 'c45'])"
            ]
          },
          "metadata": {},
          "execution_count": 9
        }
      ]
    }
  ]
}